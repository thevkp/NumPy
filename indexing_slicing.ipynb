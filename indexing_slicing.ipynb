{
 "cells": [
  {
   "cell_type": "code",
   "execution_count": 1,
   "id": "a0e36ad8",
   "metadata": {},
   "outputs": [
    {
     "name": "stdout",
     "output_type": "stream",
     "text": [
      "[ 0  1  2  3  4  5  6  7  8  9 10]\n",
      "10\n",
      "[[ 0  1  2  3]\n",
      " [ 4  5  6  7]\n",
      " [ 8  9 10 11]]\n",
      "6\n",
      "11\n",
      "4\n",
      "[[[0 1]\n",
      "  [2 3]]\n",
      "\n",
      " [[4 5]\n",
      "  [6 7]]]\n",
      "5\n",
      "5\n",
      "0\n",
      "6\n",
      "[2 3 4]\n",
      "[2 4]\n",
      "[0 1 2 3]\n"
     ]
    }
   ],
   "source": [
    "import numpy as np\n",
    "\n",
    "\n",
    "a1 = np.arange(11)\n",
    "print(a1)\n",
    "\n",
    "#indexing\n",
    "\n",
    "print(a1[-1])\n",
    "\n",
    "\n",
    "a2 = np.arange(12).reshape(3, 4)\n",
    "print(a2)\n",
    "\n",
    "\n",
    "print(a2[1,2])\n",
    "\n",
    "print(a2[2, 3])\n",
    "print(a2[1,0])\n",
    "\n",
    "a3 = np.arange(8).reshape(2,2,2)\n",
    "print(a3)\n",
    "\n",
    "print(a3[1, 0, 1])\n",
    "print(a3[1][0][1])\n",
    "print(a3[0, 0, 0])\n",
    "print(a3[1, 1, 0])\n",
    "\n",
    "\n",
    "#Slicing: fetch multiple items\n",
    "\n",
    "# 1-D numpy ndarray\n",
    "a1_slice = a1[2 : 5]\n",
    "print(a1_slice)\n",
    "a1_slice = a1[2 : 5 : 2]\n",
    "print(a1_slice)\n",
    "\n",
    "a2_slice = a2[0, :] #0-> first row, : -> all columns\n",
    "print(a2_slice)"
   ]
  },
  {
   "cell_type": "code",
   "execution_count": null,
   "id": "bc11cdc7",
   "metadata": {},
   "outputs": [
    {
     "name": "stdout",
     "output_type": "stream",
     "text": [
      "[ 8  9 10 11]\n"
     ]
    },
    {
     "data": {
      "text/plain": [
       "array([0, 4, 8])"
      ]
     },
     "execution_count": 15,
     "metadata": {},
     "output_type": "execute_result"
    }
   ],
   "source": [
    "#Slicing 2-D array\n",
    "#Slice is a view not a copy. Any change to slice will reflect in original array\n",
    "#syntax: arr[start:stop:step] step is optional\n",
    "a2_slice1 = a2[2, :] # first row all column, a2[2 : :] is also acceptable\n",
    "print(a2_slice1)\n",
    "\n",
    "a2_column_slice = a2[:, 0] # all rows, first column\n",
    "a2_column_slice"
   ]
  },
  {
   "cell_type": "code",
   "execution_count": null,
   "id": "3e081503",
   "metadata": {},
   "outputs": [
    {
     "data": {
      "text/plain": [
       "array([[ 9, 10]])"
      ]
     },
     "execution_count": 6,
     "metadata": {},
     "output_type": "execute_result"
    }
   ],
   "source": [
    "#slicing a slice of a 2-D array\n",
    "a2_slice_slice = a2[2: :, 1 : 3]\n",
    "a2_slice_slice = a2_slice1[1:3]\n",
    "a2_slice_slice"
   ]
  },
  {
   "cell_type": "code",
   "execution_count": 19,
   "id": "04745b9b",
   "metadata": {},
   "outputs": [
    {
     "ename": "IndexError",
     "evalue": "too many indices for array: array is 2-dimensional, but 3 were indexed",
     "output_type": "error",
     "traceback": [
      "\u001b[31m---------------------------------------------------------------------------\u001b[39m",
      "\u001b[31mIndexError\u001b[39m                                Traceback (most recent call last)",
      "\u001b[36mCell\u001b[39m\u001b[36m \u001b[39m\u001b[32mIn[19]\u001b[39m\u001b[32m, line 2\u001b[39m\n\u001b[32m      1\u001b[39m \u001b[38;5;66;03m#slice of a slice of all rows and second column\u001b[39;00m\n\u001b[32m----> \u001b[39m\u001b[32m2\u001b[39m a2_rows_slice = \u001b[43ma2\u001b[49m\u001b[43m[\u001b[49m\u001b[43m:\u001b[49m\u001b[43m,\u001b[49m\u001b[43m \u001b[49m\u001b[32;43m0\u001b[39;49m\u001b[43m,\u001b[49m\u001b[43m \u001b[49m\u001b[32;43m0\u001b[39;49m\u001b[43m \u001b[49m\u001b[43m:\u001b[49m\u001b[43m \u001b[49m\u001b[32;43m1\u001b[39;49m\u001b[43m]\u001b[49m\n\u001b[32m      3\u001b[39m a2_rows_slice\n",
      "\u001b[31mIndexError\u001b[39m: too many indices for array: array is 2-dimensional, but 3 were indexed"
     ]
    }
   ],
   "source": [
    "#slice of a slice of all rows and second column\n",
    "a2_rows_slice = a2[:, 0, 0 : 1]\n",
    "a2_rows_slice"
   ]
  },
  {
   "cell_type": "code",
   "execution_count": 40,
   "id": "2e52cbd0",
   "metadata": {},
   "outputs": [
    {
     "name": "stdout",
     "output_type": "stream",
     "text": [
      "[[ 0  1  2  3]\n",
      " [ 4  5  6  7]\n",
      " [ 8  9 10 11]]\n"
     ]
    },
    {
     "data": {
      "text/plain": [
       "(3, 4)"
      ]
     },
     "execution_count": 40,
     "metadata": {},
     "output_type": "execute_result"
    }
   ],
   "source": [
    "arr = a2\n",
    "print(arr)\n",
    "\n",
    "arr.ndim\n",
    "arr.shape"
   ]
  },
  {
   "cell_type": "code",
   "execution_count": 43,
   "id": "9d9477e7",
   "metadata": {},
   "outputs": [
    {
     "data": {
      "text/plain": [
       "array([ 8,  9, 10])"
      ]
     },
     "execution_count": 43,
     "metadata": {},
     "output_type": "execute_result"
    }
   ],
   "source": [
    "arr[1, :] # second row, all columns\n",
    "arr[2, 0 : 3] #third row(2), first to third element(0 : 3)\n",
    "\n",
    "#Note: keep row number and slice separated by comma(mere understanding)"
   ]
  },
  {
   "cell_type": "code",
   "execution_count": null,
   "id": "ecb91354",
   "metadata": {},
   "outputs": [
    {
     "data": {
      "text/plain": [
       "array([[ 1,  2],\n",
       "       [ 5,  6],\n",
       "       [ 9, 10]])"
      ]
     },
     "execution_count": 49,
     "metadata": {},
     "output_type": "execute_result"
    }
   ],
   "source": [
    "arr[:, 0] # all rows, column 1\n",
    "arr[:, 1:3] # all rows, column second and third(third column idx is 3)"
   ]
  },
  {
   "cell_type": "code",
   "execution_count": 54,
   "id": "f6f12044",
   "metadata": {},
   "outputs": [
    {
     "name": "stdout",
     "output_type": "stream",
     "text": [
      "0\n"
     ]
    }
   ],
   "source": [
    "print(arr[0,0])"
   ]
  },
  {
   "cell_type": "code",
   "execution_count": 56,
   "id": "cc81818b",
   "metadata": {},
   "outputs": [
    {
     "data": {
      "text/plain": [
       "array([[[ 0,  1,  2],\n",
       "        [ 3,  4,  5]],\n",
       "\n",
       "       [[ 6,  7,  8],\n",
       "        [ 9, 10, 11]]])"
      ]
     },
     "execution_count": 56,
     "metadata": {},
     "output_type": "execute_result"
    }
   ],
   "source": [
    "arr = arr.reshape(2,2,3)\n",
    "arr"
   ]
  },
  {
   "cell_type": "code",
   "execution_count": 63,
   "id": "54eb22ec",
   "metadata": {},
   "outputs": [
    {
     "name": "stdout",
     "output_type": "stream",
     "text": [
      "0\n",
      "5\n",
      "4\n",
      "2\n",
      "10\n",
      "6\n"
     ]
    }
   ],
   "source": [
    "print(arr[0,0,0])\n",
    "print(arr[0,1,2]) #first row ke second row ka third element\n",
    "print(arr[0,1,1])\n",
    "print(arr[0,0,2])\n",
    "\n",
    "print(arr[1,1,1])\n",
    "print(arr[1,0,0])"
   ]
  },
  {
   "cell_type": "code",
   "execution_count": null,
   "id": "9321738c",
   "metadata": {},
   "outputs": [
    {
     "name": "stdout",
     "output_type": "stream",
     "text": [
      "[10]\n"
     ]
    }
   ],
   "source": [
    "a1[2 : 5]\n",
    "print(a1[-1:]) # last row last column"
   ]
  },
  {
   "cell_type": "code",
   "execution_count": 74,
   "id": "8e32a7f4",
   "metadata": {},
   "outputs": [
    {
     "data": {
      "text/plain": [
       "array([[ 3,  4,  5],\n",
       "       [ 9, 10, 11]])"
      ]
     },
     "execution_count": 74,
     "metadata": {},
     "output_type": "execute_result"
    }
   ],
   "source": [
    "arr[0, :]\n",
    "arr[:, 1]"
   ]
  },
  {
   "cell_type": "code",
   "execution_count": 76,
   "id": "8d9946aa",
   "metadata": {},
   "outputs": [
    {
     "data": {
      "text/plain": [
       "array([[ 0,  1,  2,  3],\n",
       "       [ 4,  5,  6,  7],\n",
       "       [ 8,  9, 10, 11]])"
      ]
     },
     "execution_count": 76,
     "metadata": {},
     "output_type": "execute_result"
    }
   ],
   "source": [
    "arr = arr.reshape(3, 4)\n",
    "arr"
   ]
  },
  {
   "cell_type": "code",
   "execution_count": 80,
   "id": "f7466be1",
   "metadata": {},
   "outputs": [
    {
     "name": "stdout",
     "output_type": "stream",
     "text": [
      "[[ 0  1  2  3  4  5  6  7]\n",
      " [ 8  9 10 11 12 13 14 15]\n",
      " [16 17 18 19 20 21 22 23]\n",
      " [24 25 26 27 28 29 30 31]\n",
      " [32 33 34 35 36 37 38 39]\n",
      " [40 41 42 43 44 45 46 47]\n",
      " [48 49 50 51 52 53 54 55]]\n"
     ]
    },
    {
     "data": {
      "text/plain": [
       "array([[ 9, 10],\n",
       "       [17, 18],\n",
       "       [25, 26],\n",
       "       [33, 34],\n",
       "       [41, 42],\n",
       "       [49, 50]])"
      ]
     },
     "execution_count": 80,
     "metadata": {},
     "output_type": "execute_result"
    }
   ],
   "source": [
    "arr = np.arange(56).reshape(7, 8)\n",
    "print(arr)\n",
    "arr[:, 2] #all rows, third column\n",
    "arr[1:, 1:3]\n"
   ]
  },
  {
   "cell_type": "code",
   "execution_count": 141,
   "id": "66dc277a",
   "metadata": {},
   "outputs": [
    {
     "name": "stdout",
     "output_type": "stream",
     "text": [
      "[[ 2  4  6]\n",
      " [18 20 22]\n",
      " [34 36 38]\n",
      " [50 52 54]]\n",
      "[[ 1  6]\n",
      " [49 54]]\n",
      "[[24 30]]\n",
      "[24 30]\n"
     ]
    }
   ],
   "source": [
    "# print(arr[2:4, 2:4])\n",
    "# print(arr[: : 2, ::2])\n",
    "# print(arr[: : 2, : : 3])\n",
    "print(arr[0: :2,  2: :2])\n",
    "print(arr[: : 6, 1::5])\n",
    "print(arr[3::6, 0: 7 : 6])\n",
    "print(arr[3, 0::6])"
   ]
  },
  {
   "cell_type": "code",
   "execution_count": 146,
   "id": "2f98ca05",
   "metadata": {},
   "outputs": [
    {
     "name": "stdout",
     "output_type": "stream",
     "text": [
      "[[4 7]]\n",
      "[4 7]\n",
      "[[1 2 3]\n",
      " [5 6 7]]\n"
     ]
    }
   ],
   "source": [
    "temp = np.arange(12).reshape(3, 4)\n",
    "temp\n",
    "print(temp[1::3, 0::3])\n",
    "print(temp[1, ::3])\n",
    "print(temp[0:2, 1:])"
   ]
  }
 ],
 "metadata": {
  "kernelspec": {
   "display_name": "Python 3",
   "language": "python",
   "name": "python3"
  },
  "language_info": {
   "codemirror_mode": {
    "name": "ipython",
    "version": 3
   },
   "file_extension": ".py",
   "mimetype": "text/x-python",
   "name": "python",
   "nbconvert_exporter": "python",
   "pygments_lexer": "ipython3",
   "version": "3.12.6"
  }
 },
 "nbformat": 4,
 "nbformat_minor": 5
}
