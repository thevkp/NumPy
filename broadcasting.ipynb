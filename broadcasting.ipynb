{
 "cells": [
  {
   "cell_type": "markdown",
   "id": "4e90951c",
   "metadata": {},
   "source": [
    "# 📏 NumPy Broadcasting Rules\n",
    "\n",
    "Broadcasting in NumPy lets you perform operations on arrays of different shapes — **without copying data**. But it only works when **certain rules** are followed.\n",
    "\n",
    "---\n",
    "\n",
    "## ✅ The Broadcasting Rule\n",
    "\n",
    "To broadcast two arrays **A** and **B**:\n",
    "\n",
    "1. Start from the **trailing dimensions** (rightmost).\n",
    "2. Compare dimensions from **right to left**.\n",
    "3. Two dimensions are **compatible** if:\n",
    "   - They are **equal**, OR\n",
    "   - One of them is **1**\n",
    "\n",
    "If **all compared dimensions** are compatible, broadcasting succeeds.\n",
    "\n",
    "---\n",
    "\n",
    "## 📚 Example 1: Can Broadcast ✅\n",
    "\n",
    "```\n",
    "A.shape = (4, 3, 2)\n",
    "B.shape =       (3, 1)\n",
    "```\n",
    "\n",
    "Pad B to match shape length:\n",
    "\n",
    "```\n",
    "A: (4, 3, 2)\n",
    "B: (1, 3, 1)\n",
    "```\n",
    "\n",
    "Comparison:\n",
    "\n",
    "- 2 vs 1 → ✅\n",
    "- 3 vs 3 → ✅\n",
    "- 4 vs 1 → ✅\n",
    "\n",
    "✅ Broadcasting successful!  \n",
    "🧾 Result shape: `(4, 3, 2)`\n",
    "\n",
    "---\n",
    "\n",
    "## 📚 Example 2: Cannot Broadcast ❌\n",
    "\n",
    "```\n",
    "A.shape = (5, 4)\n",
    "B.shape = (3, 1)\n",
    "```\n",
    "\n",
    "Comparison:\n",
    "\n",
    "- 4 vs 1 → ✅\n",
    "- 5 vs 3 → ❌\n",
    "\n",
    "❌ Broadcasting fails here.\n",
    "\n",
    "---\n",
    "\n",
    "## 🧠 TL;DR — Compatibility Rule\n",
    "\n",
    "```\n",
    "For each dimension (right to left):\n",
    "  if dim1 == dim2 → OK\n",
    "  if dim1 == 1    → OK (stretch dim1)\n",
    "  if dim2 == 1    → OK (stretch dim2)\n",
    "  else            → ERROR\n",
    "```\n",
    "\n",
    "---\n",
    "\n",
    "## 🔍 Result Shape Rule\n",
    "\n",
    "NumPy computes the result shape by:\n",
    "\n",
    "- Keeping the maximum dimension size if compatible.\n",
    "- Stretching the 1-sized dimensions.\n",
    "- Raising an error if incompatible.\n",
    "\n",
    "---\n",
    "\n",
    "## 🧪 Try It in Code\n",
    "\n",
    "```python\n",
    "import numpy as np\n",
    "\n",
    "a = np.empty((5, 1, 3))\n",
    "b = np.empty((  4, 1))\n",
    "\n",
    "result = a + b  # Will this work?\n",
    "\n",
    "print(result.shape)\n",
    "```\n",
    "\n",
    "---"
   ]
  },
  {
   "cell_type": "markdown",
   "id": "58856155",
   "metadata": {},
   "source": [
    "Broadcast \n",
    "\n",
    "The term broadcasting describes how NumPy treats arrays with different shapes during arithmetic oeprations.\n",
    "\n",
    "The smaller array is 'broadcast' across the larger array so that they have compatible shapes.\n",
    "\n",
    "Broadcasting Rules\n",
    "\n",
    "1. Make the two arrays have the same number of dimensions.\n",
    "  => If the numbers of dimensions of the two arrays are different, add new dimensions with size 1 to the head of the array with the smaller dimension.\n",
    "\n",
    "2. Make Each dimension of the two arrays the same size\n",
    "  =>If the sizes of each dimension of the two arrays do not match, dimensions with size 1 are stretched to the size of the other array.\n",
    "  =>If there is a dimension whose size is not 1 in either of the two arrays, it cannot be broadcasted, and an error is raised\n",
    "\n",
    "Note: last dimesions of smaller and bigger arrays should match to broadcast"
   ]
  },
  {
   "cell_type": "code",
   "execution_count": 13,
   "id": "169f82b4",
   "metadata": {},
   "outputs": [],
   "source": [
    "import numpy as np"
   ]
  },
  {
   "cell_type": "code",
   "execution_count": 14,
   "id": "c47f5a87",
   "metadata": {},
   "outputs": [
    {
     "name": "stdout",
     "output_type": "stream",
     "text": [
      "[[0 1 2]\n",
      " [3 4 5]]\n",
      "[[ 6  7  8]\n",
      " [ 9 10 11]]\n",
      "[[ 6  8 10]\n",
      " [12 14 16]]\n"
     ]
    }
   ],
   "source": [
    "#same shape\n",
    "a = np.arange(6).reshape(2,3)\n",
    "b = np.arange(6,12).reshape(2,3)\n",
    "print(a)\n",
    "print(b)\n",
    "\n",
    "print(a + b)"
   ]
  },
  {
   "cell_type": "code",
   "execution_count": 15,
   "id": "f53baadf",
   "metadata": {},
   "outputs": [
    {
     "name": "stdout",
     "output_type": "stream",
     "text": [
      "[[0 1 2]\n",
      " [3 4 5]]\n",
      "\n",
      "[[0 1 2]]\n",
      "\n",
      "[[0 2 4]\n",
      " [3 5 7]]\n"
     ]
    }
   ],
   "source": [
    "#same shape\n",
    "a = np.arange(6).reshape(2,3)\n",
    "b = np.arange(3).reshape(1,3)\n",
    "print(a, end=\"\\n\\n\")\n",
    "print(b, end=\"\\n\\n\")\n",
    "\n",
    "print(a + b)"
   ]
  },
  {
   "cell_type": "code",
   "execution_count": 18,
   "id": "82b75345",
   "metadata": {},
   "outputs": [
    {
     "name": "stdout",
     "output_type": "stream",
     "text": [
      "[[ 0  1  2]\n",
      " [ 3  4  5]\n",
      " [ 6  7  8]\n",
      " [ 9 10 11]]\n",
      "[0 1 2]\n",
      "[[ 0  2  4]\n",
      " [ 3  5  7]\n",
      " [ 6  8 10]\n",
      " [ 9 11 13]]\n"
     ]
    }
   ],
   "source": [
    "#Examples\n",
    "a = np.arange(12).reshape(4,3)\n",
    "b = np.arange(3)\n",
    "\n",
    "print(a)\n",
    "print(b)\n",
    "print(a + b)"
   ]
  },
  {
   "cell_type": "code",
   "execution_count": null,
   "id": "6daf1acc",
   "metadata": {},
   "outputs": [
    {
     "name": "stdout",
     "output_type": "stream",
     "text": [
      "[[ 0  1  2  3]\n",
      " [ 4  5  6  7]\n",
      " [ 8  9 10 11]]\n",
      "[0 1 2]\n"
     ]
    },
    {
     "ename": "ValueError",
     "evalue": "operands could not be broadcast together with shapes (3,4) (3,) ",
     "output_type": "error",
     "traceback": [
      "\u001b[31m---------------------------------------------------------------------------\u001b[39m",
      "\u001b[31mValueError\u001b[39m                                Traceback (most recent call last)",
      "\u001b[36mCell\u001b[39m\u001b[36m \u001b[39m\u001b[32mIn[19]\u001b[39m\u001b[32m, line 6\u001b[39m\n\u001b[32m      4\u001b[39m \u001b[38;5;28mprint\u001b[39m(a)\n\u001b[32m      5\u001b[39m \u001b[38;5;28mprint\u001b[39m(b)\n\u001b[32m----> \u001b[39m\u001b[32m6\u001b[39m \u001b[38;5;28mprint\u001b[39m(\u001b[43ma\u001b[49m\u001b[43m \u001b[49m\u001b[43m+\u001b[49m\u001b[43m \u001b[49m\u001b[43mb\u001b[49m)\n",
      "\u001b[31mValueError\u001b[39m: operands could not be broadcast together with shapes (3,4) (3,) "
     ]
    }
   ],
   "source": [
    "a = np.arange(12).reshape(3,4)\n",
    "b = np.arange(3)\n",
    "\n",
    "print(a)\n",
    "print(b)\n",
    "print(a + b) #Error: last dimesions are not equal. i.e. 3 != 4"
   ]
  },
  {
   "cell_type": "code",
   "execution_count": null,
   "id": "1cb5b1ea",
   "metadata": {},
   "outputs": [
    {
     "ename": "ValueError",
     "evalue": "operands could not be broadcast together with shapes (3,4) (4,1) ",
     "output_type": "error",
     "traceback": [
      "\u001b[31m---------------------------------------------------------------------------\u001b[39m",
      "\u001b[31mValueError\u001b[39m                                Traceback (most recent call last)",
      "\u001b[36mCell\u001b[39m\u001b[36m \u001b[39m\u001b[32mIn[22]\u001b[39m\u001b[32m, line 4\u001b[39m\n\u001b[32m      1\u001b[39m a = np.arange(\u001b[32m12\u001b[39m).reshape(\u001b[32m3\u001b[39m, \u001b[32m4\u001b[39m)\n\u001b[32m      2\u001b[39m b = np.arange(\u001b[32m4\u001b[39m).reshape(\u001b[32m4\u001b[39m, \u001b[32m1\u001b[39m)\n\u001b[32m----> \u001b[39m\u001b[32m4\u001b[39m \u001b[38;5;28mprint\u001b[39m(\u001b[43ma\u001b[49m\u001b[43m \u001b[49m\u001b[43m+\u001b[49m\u001b[43m \u001b[49m\u001b[43mb\u001b[49m)\n",
      "\u001b[31mValueError\u001b[39m: operands could not be broadcast together with shapes (3,4) (4,1) "
     ]
    }
   ],
   "source": [
    "a = np.arange(12).reshape(3, 4)\n",
    "b = np.arange(4).reshape(4, 1)\n",
    "\n",
    "print(a + b) #last dimensions are not equal, 1 != 4"
   ]
  },
  {
   "cell_type": "code",
   "execution_count": 23,
   "id": "3287cbab",
   "metadata": {},
   "outputs": [
    {
     "name": "stdout",
     "output_type": "stream",
     "text": [
      "[[0 1 2]\n",
      " [1 2 3]\n",
      " [2 3 4]\n",
      " [3 4 5]]\n"
     ]
    }
   ],
   "source": [
    "a = np.arange(3).reshape(1,3)\n",
    "b = np.arange(4).reshape(4,1)\n",
    "print(a + b)"
   ]
  },
  {
   "cell_type": "code",
   "execution_count": 24,
   "id": "00e7b438",
   "metadata": {},
   "outputs": [
    {
     "ename": "ValueError",
     "evalue": "operands could not be broadcast together with shapes (3,4) (4,3) ",
     "output_type": "error",
     "traceback": [
      "\u001b[31m---------------------------------------------------------------------------\u001b[39m",
      "\u001b[31mValueError\u001b[39m                                Traceback (most recent call last)",
      "\u001b[36mCell\u001b[39m\u001b[36m \u001b[39m\u001b[32mIn[24]\u001b[39m\u001b[32m, line 5\u001b[39m\n\u001b[32m      2\u001b[39m b = np.arange(\u001b[32m12\u001b[39m).reshape(\u001b[32m4\u001b[39m,\u001b[32m3\u001b[39m)\n\u001b[32m      4\u001b[39m \u001b[38;5;66;03m#ye dono na ho paayenge broadcast\u001b[39;00m\n\u001b[32m----> \u001b[39m\u001b[32m5\u001b[39m \u001b[38;5;28mprint\u001b[39m(\u001b[43ma\u001b[49m\u001b[43m \u001b[49m\u001b[43m+\u001b[49m\u001b[43m \u001b[49m\u001b[43mb\u001b[49m)\n",
      "\u001b[31mValueError\u001b[39m: operands could not be broadcast together with shapes (3,4) (4,3) "
     ]
    }
   ],
   "source": [
    "a = np.arange(12).reshape(3,4)\n",
    "b = np.arange(12).reshape(4,3)\n",
    "\n",
    "#ye dono na ho paayenge broadcast\n",
    "print(a + b)"
   ]
  },
  {
   "cell_type": "code",
   "execution_count": 25,
   "id": "8ba23503",
   "metadata": {},
   "outputs": [
    {
     "ename": "ValueError",
     "evalue": "operands could not be broadcast together with shapes (4,4) (2,2) ",
     "output_type": "error",
     "traceback": [
      "\u001b[31m---------------------------------------------------------------------------\u001b[39m",
      "\u001b[31mValueError\u001b[39m                                Traceback (most recent call last)",
      "\u001b[36mCell\u001b[39m\u001b[36m \u001b[39m\u001b[32mIn[25]\u001b[39m\u001b[32m, line 4\u001b[39m\n\u001b[32m      1\u001b[39m a = np.arange(\u001b[32m16\u001b[39m).reshape(\u001b[32m4\u001b[39m,\u001b[32m4\u001b[39m)\n\u001b[32m      2\u001b[39m b = np.arange(\u001b[32m4\u001b[39m).reshape(\u001b[32m2\u001b[39m,\u001b[32m2\u001b[39m)\n\u001b[32m----> \u001b[39m\u001b[32m4\u001b[39m \u001b[38;5;28mprint\u001b[39m(\u001b[43ma\u001b[49m\u001b[43m \u001b[49m\u001b[43m+\u001b[49m\u001b[43m \u001b[49m\u001b[43mb\u001b[49m)\n",
      "\u001b[31mValueError\u001b[39m: operands could not be broadcast together with shapes (4,4) (2,2) "
     ]
    }
   ],
   "source": [
    "a = np.arange(16).reshape(4,4)\n",
    "b = np.arange(4).reshape(2,2)\n",
    "\n",
    "print(a + b)"
   ]
  },
  {
   "cell_type": "code",
   "execution_count": null,
   "id": "61162ddd",
   "metadata": {},
   "outputs": [],
   "source": []
  }
 ],
 "metadata": {
  "kernelspec": {
   "display_name": "Python 3",
   "language": "python",
   "name": "python3"
  },
  "language_info": {
   "codemirror_mode": {
    "name": "ipython",
    "version": 3
   },
   "file_extension": ".py",
   "mimetype": "text/x-python",
   "name": "python",
   "nbconvert_exporter": "python",
   "pygments_lexer": "ipython3",
   "version": "3.12.6"
  }
 },
 "nbformat": 4,
 "nbformat_minor": 5
}
