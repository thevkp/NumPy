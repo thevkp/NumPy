{
 "cells": [
  {
   "cell_type": "code",
   "execution_count": 37,
   "id": "b0a1f903",
   "metadata": {},
   "outputs": [],
   "source": [
    "import numpy as np\n",
    "\n",
    "a = np.arange(256).reshape((16,16))\n",
    "# a"
   ]
  },
  {
   "cell_type": "markdown",
   "id": "5fd7ec9a",
   "metadata": {},
   "source": [
    "### 🎩 Fancy Indexing in NumPy\n",
    "Fancy indexing is a NumPy feature that allows you to index arrays using arrays (or lists) of integers or booleans instead of slices.\n",
    "\n",
    "```python\n",
    "a[[0, 11, 2]]  # 0th row, 12th row, 3rd row\n",
    "```\n"
   ]
  },
  {
   "cell_type": "code",
   "execution_count": 9,
   "id": "79edde98",
   "metadata": {},
   "outputs": [
    {
     "data": {
      "text/plain": [
       "array([[  0,   1,   2,   3,   4,   5,   6,   7,   8,   9,  10,  11,  12,\n",
       "         13,  14,  15],\n",
       "       [176, 177, 178, 179, 180, 181, 182, 183, 184, 185, 186, 187, 188,\n",
       "        189, 190, 191],\n",
       "       [ 32,  33,  34,  35,  36,  37,  38,  39,  40,  41,  42,  43,  44,\n",
       "         45,  46,  47]])"
      ]
     },
     "execution_count": 9,
     "metadata": {},
     "output_type": "execute_result"
    }
   ],
   "source": [
    "#fancy indexing: Fancy indexing is a NumPy feature that \n",
    "# allows you to index arrays using arrays (or lists) of \n",
    "# integers or booleans instead of just slices (:).\n",
    "a[[0,11,2]] #0th row, 12th row, third row\n",
    "\n"
   ]
  },
  {
   "cell_type": "code",
   "execution_count": 12,
   "id": "fd5d4885",
   "metadata": {},
   "outputs": [
    {
     "data": {
      "text/plain": [
       "array([[176, 177, 178, 179, 180, 181, 182, 183, 184, 185, 186, 187, 188,\n",
       "        189, 190, 191],\n",
       "       [112, 113, 114, 115, 116, 117, 118, 119, 120, 121, 122, 123, 124,\n",
       "        125, 126, 127],\n",
       "       [208, 209, 210, 211, 212, 213, 214, 215, 216, 217, 218, 219, 220,\n",
       "        221, 222, 223],\n",
       "       [ 16,  17,  18,  19,  20,  21,  22,  23,  24,  25,  26,  27,  28,\n",
       "         29,  30,  31],\n",
       "       [224, 225, 226, 227, 228, 229, 230, 231, 232, 233, 234, 235, 236,\n",
       "        237, 238, 239]])"
      ]
     },
     "execution_count": 12,
     "metadata": {},
     "output_type": "execute_result"
    }
   ],
   "source": [
    "a[[11,7,13,1,14]]"
   ]
  },
  {
   "cell_type": "code",
   "execution_count": 26,
   "id": "db73c08d",
   "metadata": {},
   "outputs": [
    {
     "data": {
      "text/plain": [
       "array([[62,  1,  7, 43],\n",
       "       [35,  6, 82, 76],\n",
       "       [33, 59, 88, 29],\n",
       "       [85, 93, 90, 63],\n",
       "       [25, 72, 13, 82],\n",
       "       [60, 39, 14, 66]], dtype=int32)"
      ]
     },
     "execution_count": 26,
     "metadata": {},
     "output_type": "execute_result"
    }
   ],
   "source": [
    "#Boolean Indexing\n",
    "b = np.random.randint(1,100,24).reshape(6,4)\n",
    "b"
   ]
  },
  {
   "cell_type": "code",
   "execution_count": 19,
   "id": "c8ce37f6",
   "metadata": {},
   "outputs": [
    {
     "data": {
      "text/plain": [
       "array([[ True, False, False,  True],\n",
       "       [False, False, False,  True],\n",
       "       [ True, False, False, False],\n",
       "       [ True,  True, False, False],\n",
       "       [False, False, False, False],\n",
       "       [False, False, False, False]])"
      ]
     },
     "execution_count": 19,
     "metadata": {},
     "output_type": "execute_result"
    }
   ],
   "source": [
    "#Boolean Masking(loosely)\n",
    "b > 50"
   ]
  },
  {
   "cell_type": "code",
   "execution_count": 27,
   "id": "3b04c3bf",
   "metadata": {},
   "outputs": [
    {
     "data": {
      "text/plain": [
       "array([62, 82, 76, 59, 88, 85, 93, 90, 63, 72, 82, 60, 66], dtype=int32)"
      ]
     },
     "execution_count": 27,
     "metadata": {},
     "output_type": "execute_result"
    }
   ],
   "source": [
    "#Boolean Indexing\n",
    "b[b > 50]"
   ]
  },
  {
   "cell_type": "code",
   "execution_count": 29,
   "id": "3dbe0a0a",
   "metadata": {},
   "outputs": [
    {
     "data": {
      "text/plain": [
       "array([62,  6, 82, 76, 88, 90, 72, 82, 60, 14, 66], dtype=int32)"
      ]
     },
     "execution_count": 29,
     "metadata": {},
     "output_type": "execute_result"
    }
   ],
   "source": [
    "#find evens using Boolean indexing\n",
    "b[b %2 == 0]"
   ]
  },
  {
   "cell_type": "code",
   "execution_count": 38,
   "id": "acd3de99",
   "metadata": {},
   "outputs": [
    {
     "data": {
      "text/plain": [
       "array([62, 82, 76, 88, 90, 72, 82, 60, 66], dtype=int32)"
      ]
     },
     "execution_count": 38,
     "metadata": {},
     "output_type": "execute_result"
    }
   ],
   "source": [
    "#Find all numbers greater than 50 and even\n",
    "b[(b > 50) & (b % 2 == 0)] # both the experssion are boolean, that's why bitwise AND(&)"
   ]
  },
  {
   "cell_type": "code",
   "execution_count": 41,
   "id": "cc84086b",
   "metadata": {},
   "outputs": [
    {
     "data": {
      "text/plain": [
       "array([ 1,  2,  3,  4,  5,  6,  8,  9, 10, 11, 12, 13, 15, 16, 17, 18, 19,\n",
       "       20, 22, 23, 24, 25, 26, 27, 29, 30, 31, 32, 33, 34, 36, 37, 38, 39,\n",
       "       40, 41, 43, 44, 45, 46, 47, 48])"
      ]
     },
     "execution_count": 41,
     "metadata": {},
     "output_type": "execute_result"
    }
   ],
   "source": [
    "#all numbers not divisible by 7\n",
    "a[~(a % 7 == 0) & (a < 50)]"
   ]
  }
 ],
 "metadata": {
  "kernelspec": {
   "display_name": "Python 3",
   "language": "python",
   "name": "python3"
  },
  "language_info": {
   "codemirror_mode": {
    "name": "ipython",
    "version": 3
   },
   "file_extension": ".py",
   "mimetype": "text/x-python",
   "name": "python",
   "nbconvert_exporter": "python",
   "pygments_lexer": "ipython3",
   "version": "3.12.6"
  }
 },
 "nbformat": 4,
 "nbformat_minor": 5
}
