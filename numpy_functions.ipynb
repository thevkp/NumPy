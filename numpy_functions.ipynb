{
 "cells": [
  {
   "cell_type": "markdown",
   "id": "b8dbd666",
   "metadata": {},
   "source": [
    "\n",
    "# 🔢 `numpy.sort()` – Fast & Flexible Sorting in NumPy\n",
    "\n",
    "```python\n",
    "numpy.sort(a, axis=-1, kind='quicksort', order=None)\n",
    "```\n",
    "\n",
    "## 📌 Parameters:\n",
    "\n",
    "- **`a`** : *array_like*  \n",
    "  The input array to sort.\n",
    "\n",
    "- **`axis`** : *int or None*, default = `-1`  \n",
    "  Axis to sort along. Use `None` to flatten before sorting.\n",
    "\n",
    "- **`kind`** : *{'quicksort', 'mergesort', 'heapsort', 'stable'}*  \n",
    "  Sorting algorithm to use:\n",
    "  - `'quicksort'` – fast but unstable  \n",
    "  - `'mergesort'` – stable  \n",
    "  - `'heapsort'` – memory-efficient  \n",
    "  - `'stable'` – guaranteed stability (since NumPy 1.15)\n",
    "\n",
    "- **`order`** : *str or list of str*, optional  \n",
    "  For sorting structured arrays by field names.\n"
   ]
  },
  {
   "cell_type": "code",
   "execution_count": 10,
   "id": "18733486",
   "metadata": {},
   "outputs": [
    {
     "name": "stdout",
     "output_type": "stream",
     "text": [
      "Original Array\n",
      " [12 81 88 53 54 45 49  8 39 87 22  8 44 41 20]\n",
      "Sorted\n",
      " [ 8  8 12 20 22 39 41 44 45 49 53 54 81 87 88]\n",
      "Reverse Sorted\n",
      " [88 87 81 54 53 49 45 44 41 39 22 20 12  8  8]\n"
     ]
    }
   ],
   "source": [
    "#sort\n",
    "import numpy as np\n",
    "\n",
    "\n",
    "\n",
    "a = np.random.randint(1,100,15)\n",
    "print(f'Original Array\\n {a}')\n",
    "print(f'Sorted\\n {np.sort(a)}')\n",
    "print(f'Reverse Sorted\\n {np.sort(a)[::-1]}')"
   ]
  },
  {
   "cell_type": "code",
   "execution_count": 11,
   "id": "9a430ab2",
   "metadata": {},
   "outputs": [
    {
     "name": "stdout",
     "output_type": "stream",
     "text": [
      "Original Array\n",
      " [[76  3 96 20]\n",
      " [60 87 75 71]\n",
      " [ 3 35  7  9]\n",
      " [22 62 61  8]\n",
      " [89 88 33 92]\n",
      " [49 14 61 46]]\n",
      "Sorted\n",
      " [[ 3 20 76 96]\n",
      " [60 71 75 87]\n",
      " [ 3  7  9 35]\n",
      " [ 8 22 61 62]\n",
      " [33 88 89 92]\n",
      " [14 46 49 61]]\n",
      "[[ 3  3  7  8]\n",
      " [22 14 33  9]\n",
      " [49 35 61 20]\n",
      " [60 62 61 46]\n",
      " [76 87 75 71]\n",
      " [89 88 96 92]]\n",
      "[[ 3 20 76 96]\n",
      " [60 71 75 87]\n",
      " [ 3  7  9 35]\n",
      " [ 8 22 61 62]\n",
      " [33 88 89 92]\n",
      " [14 46 49 61]]\n"
     ]
    }
   ],
   "source": [
    "b = np.random.randint(1,100,24).reshape(6,4)\n",
    "print(f'Original Array\\n {b}')\n",
    "print(f'Sorted\\n {np.sort(b)}') #Default sort element within each row\n",
    "print(np.sort(b, axis=0)) #column wise sorting\n",
    "print(np.sort(b, axis=1)) #row wise sorting"
   ]
  },
  {
   "cell_type": "code",
   "execution_count": 12,
   "id": "08c88c34",
   "metadata": {},
   "outputs": [
    {
     "name": "stdout",
     "output_type": "stream",
     "text": [
      "[[14 46 49 61]\n",
      " [33 88 89 92]\n",
      " [ 8 22 61 62]\n",
      " [ 3  7  9 35]\n",
      " [60 71 75 87]\n",
      " [ 3 20 76 96]]\n"
     ]
    }
   ],
   "source": [
    "# Reverse sorting\n",
    "print(np.sort(b)[::-1])"
   ]
  },
  {
   "cell_type": "code",
   "execution_count": 17,
   "id": "59e6f87f",
   "metadata": {},
   "outputs": [
    {
     "name": "stdout",
     "output_type": "stream",
     "text": [
      "<class 'numpy.ndarray'>\n",
      "[ 1.  2.  3. 45.]\n",
      "[45.  3.  2.  1.]\n"
     ]
    }
   ],
   "source": [
    "arr = input().strip().split(' ')\n",
    "arr = np.array(arr, dtype=float)\n",
    "print(type(arr))\n",
    "print(arr)\n",
    "print(np.sort(arr)[::-1])"
   ]
  },
  {
   "cell_type": "code",
   "execution_count": null,
   "id": "f1c5608e",
   "metadata": {},
   "outputs": [],
   "source": []
  },
  {
   "cell_type": "code",
   "execution_count": null,
   "id": "5a2565a7",
   "metadata": {},
   "outputs": [],
   "source": []
  },
  {
   "cell_type": "code",
   "execution_count": null,
   "id": "5e2c9223",
   "metadata": {},
   "outputs": [],
   "source": []
  },
  {
   "cell_type": "code",
   "execution_count": null,
   "id": "64ea8c31",
   "metadata": {},
   "outputs": [],
   "source": []
  },
  {
   "cell_type": "code",
   "execution_count": null,
   "id": "46db1bdc",
   "metadata": {},
   "outputs": [],
   "source": []
  },
  {
   "cell_type": "code",
   "execution_count": null,
   "id": "4f6e187a",
   "metadata": {},
   "outputs": [],
   "source": []
  },
  {
   "cell_type": "code",
   "execution_count": null,
   "id": "182d15ff",
   "metadata": {},
   "outputs": [],
   "source": []
  },
  {
   "cell_type": "code",
   "execution_count": null,
   "id": "cfa0121e",
   "metadata": {},
   "outputs": [],
   "source": []
  },
  {
   "cell_type": "code",
   "execution_count": null,
   "id": "6d56e445",
   "metadata": {},
   "outputs": [],
   "source": []
  },
  {
   "cell_type": "code",
   "execution_count": null,
   "id": "c307caaa",
   "metadata": {},
   "outputs": [],
   "source": []
  },
  {
   "cell_type": "code",
   "execution_count": null,
   "id": "c3491b27",
   "metadata": {},
   "outputs": [],
   "source": []
  },
  {
   "cell_type": "code",
   "execution_count": null,
   "id": "97908054",
   "metadata": {},
   "outputs": [],
   "source": []
  }
 ],
 "metadata": {
  "kernelspec": {
   "display_name": "Python 3",
   "language": "python",
   "name": "python3"
  },
  "language_info": {
   "codemirror_mode": {
    "name": "ipython",
    "version": 3
   },
   "file_extension": ".py",
   "mimetype": "text/x-python",
   "name": "python",
   "nbconvert_exporter": "python",
   "pygments_lexer": "ipython3",
   "version": "3.12.6"
  }
 },
 "nbformat": 4,
 "nbformat_minor": 5
}
