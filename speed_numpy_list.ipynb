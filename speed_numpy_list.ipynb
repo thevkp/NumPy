{
 "cells": [
  {
   "cell_type": "code",
   "execution_count": 2,
   "id": "8a6593f8",
   "metadata": {},
   "outputs": [
    {
     "name": "stdout",
     "output_type": "stream",
     "text": [
      "4.348198413848877\n"
     ]
    }
   ],
   "source": [
    "import numpy as np\n",
    "import time\n",
    "\n",
    "start = time.time()\n",
    "a = [i for i in range(10000000)]\n",
    "b = [j for j in range(10000000, 20000000)]\n",
    "\n",
    "c = []\n",
    "for i in range(len(a)):\n",
    "  c.append(a[i] + b[i])\n",
    "print(time.time() - start)\n"
   ]
  },
  {
   "cell_type": "code",
   "execution_count": 4,
   "id": "bdefdd13",
   "metadata": {},
   "outputs": [
    {
     "name": "stdout",
     "output_type": "stream",
     "text": [
      "0.1681382656097412\n"
     ]
    }
   ],
   "source": [
    "start = time.time()\n",
    "a = np.arange(10000000)\n",
    "b = np.arange(10000000, 20000000)\n",
    "\n",
    "c = a + b\n",
    "print(time.time() - start)"
   ]
  },
  {
   "cell_type": "code",
   "execution_count": 5,
   "id": "65137ec1",
   "metadata": {},
   "outputs": [
    {
     "data": {
      "text/plain": [
       "29.975912583679204"
      ]
     },
     "execution_count": 5,
     "metadata": {},
     "output_type": "execute_result"
    }
   ],
   "source": [
    "5.040097951889038/0.1681382656097412"
   ]
  },
  {
   "cell_type": "code",
   "execution_count": 22,
   "id": "2840e2ec",
   "metadata": {},
   "outputs": [
    {
     "name": "stdout",
     "output_type": "stream",
     "text": [
      "28\n",
      "28\n",
      "89095160, 40000112\n",
      "2.2273727633562626\n"
     ]
    }
   ],
   "source": [
    "# memory \n",
    "import sys\n",
    "\n",
    "a = [i for i in range(10000000)]\n",
    "b = np.arange(10000000, dtype=np.int32)\n",
    "# print(b[-1])\n",
    "print(sys.getsizeof(a[0]))\n",
    "print(sys.getsizeof(b[0]))\n",
    "\n",
    "a_size = (sys.getsizeof(a))\n",
    "b_size = (sys.getsizeof(b))\n",
    "\n",
    "print(f'{a_size}, {b_size}')\n",
    "print(a_size/b_size)"
   ]
  }
 ],
 "metadata": {
  "kernelspec": {
   "display_name": "Python 3",
   "language": "python",
   "name": "python3"
  },
  "language_info": {
   "codemirror_mode": {
    "name": "ipython",
    "version": 3
   },
   "file_extension": ".py",
   "mimetype": "text/x-python",
   "name": "python",
   "nbconvert_exporter": "python",
   "pygments_lexer": "ipython3",
   "version": "3.12.6"
  }
 },
 "nbformat": 4,
 "nbformat_minor": 5
}
